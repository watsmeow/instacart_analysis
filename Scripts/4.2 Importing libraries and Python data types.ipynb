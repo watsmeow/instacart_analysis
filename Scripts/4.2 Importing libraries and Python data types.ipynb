{
 "cells": [
  {
   "cell_type": "markdown",
   "id": "33a390ea",
   "metadata": {},
   "source": [
    "# 01. Importing libraries"
   ]
  },
  {
   "cell_type": "markdown",
   "id": "b64a68b6",
   "metadata": {},
   "source": [
    "## Script contents:\n",
    "### Importing libraries\n",
    "### Exploring data typing"
   ]
  },
  {
   "cell_type": "code",
   "execution_count": 1,
   "id": "986dd294",
   "metadata": {},
   "outputs": [],
   "source": [
    "# Import Libraries\n",
    "import pandas as pd\n",
    "import numpy as np\n",
    "import os"
   ]
  },
  {
   "cell_type": "markdown",
   "id": "bd09183a",
   "metadata": {},
   "source": [
    "# Python data types"
   ]
  },
  {
   "cell_type": "code",
   "execution_count": 19,
   "id": "6a17e4ab",
   "metadata": {},
   "outputs": [],
   "source": [
    "x = 4 + 96"
   ]
  },
  {
   "cell_type": "code",
   "execution_count": 20,
   "id": "22edc5df",
   "metadata": {},
   "outputs": [
    {
     "name": "stdout",
     "output_type": "stream",
     "text": [
      "100\n"
     ]
    }
   ],
   "source": [
    "print(x)"
   ]
  },
  {
   "cell_type": "code",
   "execution_count": 32,
   "id": "e9533cdf",
   "metadata": {},
   "outputs": [],
   "source": [
    "a = 25.25"
   ]
  },
  {
   "cell_type": "code",
   "execution_count": 36,
   "id": "7d68fcbc",
   "metadata": {},
   "outputs": [],
   "source": [
    "b = 74.75"
   ]
  },
  {
   "cell_type": "code",
   "execution_count": 37,
   "id": "8f326430",
   "metadata": {},
   "outputs": [],
   "source": [
    "c = a + b"
   ]
  },
  {
   "cell_type": "code",
   "execution_count": 38,
   "id": "82a6c3f0",
   "metadata": {},
   "outputs": [
    {
     "name": "stdout",
     "output_type": "stream",
     "text": [
      "100.0\n"
     ]
    }
   ],
   "source": [
    "print(c)"
   ]
  },
  {
   "cell_type": "code",
   "execution_count": 41,
   "id": "583374cc",
   "metadata": {},
   "outputs": [],
   "source": [
    "d = 130 - 20 - 10"
   ]
  },
  {
   "cell_type": "code",
   "execution_count": 42,
   "id": "5fddb81e",
   "metadata": {},
   "outputs": [
    {
     "name": "stdout",
     "output_type": "stream",
     "text": [
      "100\n"
     ]
    }
   ],
   "source": [
    "print(d)"
   ]
  },
  {
   "cell_type": "code",
   "execution_count": 43,
   "id": "4a6a3dce",
   "metadata": {},
   "outputs": [],
   "source": [
    "e = 47.47"
   ]
  },
  {
   "cell_type": "code",
   "execution_count": 45,
   "id": "82880989",
   "metadata": {},
   "outputs": [],
   "source": [
    "f = 19.35"
   ]
  },
  {
   "cell_type": "code",
   "execution_count": 48,
   "id": "24ac83c4",
   "metadata": {},
   "outputs": [
    {
     "name": "stdout",
     "output_type": "stream",
     "text": [
      "0.126781910809313\n"
     ]
    }
   ],
   "source": [
    "print(g / f)"
   ]
  },
  {
   "cell_type": "code",
   "execution_count": 49,
   "id": "e7710a4d",
   "metadata": {},
   "outputs": [],
   "source": [
    "first = 'me'"
   ]
  },
  {
   "cell_type": "code",
   "execution_count": 51,
   "id": "0d312b66",
   "metadata": {},
   "outputs": [],
   "source": [
    "second = 'ow'"
   ]
  },
  {
   "cell_type": "code",
   "execution_count": 52,
   "id": "e6b039ef",
   "metadata": {},
   "outputs": [
    {
     "name": "stdout",
     "output_type": "stream",
     "text": [
      "meow\n"
     ]
    }
   ],
   "source": [
    "print(first + second)"
   ]
  },
  {
   "cell_type": "code",
   "execution_count": 2,
   "id": "bd6380d9",
   "metadata": {},
   "outputs": [],
   "source": [
    "x = 2"
   ]
  },
  {
   "cell_type": "code",
   "execution_count": 53,
   "id": "2e252f16",
   "metadata": {},
   "outputs": [],
   "source": [
    "w = 'Hello World! '"
   ]
  },
  {
   "cell_type": "code",
   "execution_count": 54,
   "id": "7c4d3d3d",
   "metadata": {},
   "outputs": [],
   "source": [
    "z = 'Python is for everybody.'"
   ]
  },
  {
   "cell_type": "code",
   "execution_count": 55,
   "id": "2b093a6b",
   "metadata": {},
   "outputs": [
    {
     "name": "stdout",
     "output_type": "stream",
     "text": [
      "Hello World! Python is for everybody.\n"
     ]
    }
   ],
   "source": [
    "print(w + z)"
   ]
  },
  {
   "cell_type": "code",
   "execution_count": 56,
   "id": "1e181f60",
   "metadata": {},
   "outputs": [],
   "source": [
    "duplicate = 'This string will appear 100x. '"
   ]
  },
  {
   "cell_type": "code",
   "execution_count": 57,
   "id": "36a4bf00",
   "metadata": {},
   "outputs": [
    {
     "name": "stdout",
     "output_type": "stream",
     "text": [
      "This string will appear 100x. This string will appear 100x. This string will appear 100x. This string will appear 100x. This string will appear 100x. This string will appear 100x. This string will appear 100x. This string will appear 100x. This string will appear 100x. This string will appear 100x. This string will appear 100x. This string will appear 100x. This string will appear 100x. This string will appear 100x. This string will appear 100x. This string will appear 100x. This string will appear 100x. This string will appear 100x. This string will appear 100x. This string will appear 100x. This string will appear 100x. This string will appear 100x. This string will appear 100x. This string will appear 100x. This string will appear 100x. This string will appear 100x. This string will appear 100x. This string will appear 100x. This string will appear 100x. This string will appear 100x. This string will appear 100x. This string will appear 100x. This string will appear 100x. This string will appear 100x. This string will appear 100x. This string will appear 100x. This string will appear 100x. This string will appear 100x. This string will appear 100x. This string will appear 100x. This string will appear 100x. This string will appear 100x. This string will appear 100x. This string will appear 100x. This string will appear 100x. This string will appear 100x. This string will appear 100x. This string will appear 100x. This string will appear 100x. This string will appear 100x. This string will appear 100x. This string will appear 100x. This string will appear 100x. This string will appear 100x. This string will appear 100x. This string will appear 100x. This string will appear 100x. This string will appear 100x. This string will appear 100x. This string will appear 100x. This string will appear 100x. This string will appear 100x. This string will appear 100x. This string will appear 100x. This string will appear 100x. This string will appear 100x. This string will appear 100x. This string will appear 100x. This string will appear 100x. This string will appear 100x. This string will appear 100x. This string will appear 100x. This string will appear 100x. This string will appear 100x. This string will appear 100x. This string will appear 100x. This string will appear 100x. This string will appear 100x. This string will appear 100x. This string will appear 100x. This string will appear 100x. This string will appear 100x. This string will appear 100x. This string will appear 100x. This string will appear 100x. This string will appear 100x. This string will appear 100x. This string will appear 100x. This string will appear 100x. This string will appear 100x. This string will appear 100x. This string will appear 100x. This string will appear 100x. This string will appear 100x. This string will appear 100x. This string will appear 100x. This string will appear 100x. This string will appear 100x. This string will appear 100x. This string will appear 100x. \n"
     ]
    }
   ],
   "source": [
    "print(duplicate * 100)"
   ]
  }
 ],
 "metadata": {
  "kernelspec": {
   "display_name": "Python 3 (ipykernel)",
   "language": "python",
   "name": "python3"
  },
  "language_info": {
   "codemirror_mode": {
    "name": "ipython",
    "version": 3
   },
   "file_extension": ".py",
   "mimetype": "text/x-python",
   "name": "python",
   "nbconvert_exporter": "python",
   "pygments_lexer": "ipython3",
   "version": "3.10.9"
  }
 },
 "nbformat": 4,
 "nbformat_minor": 5
}
